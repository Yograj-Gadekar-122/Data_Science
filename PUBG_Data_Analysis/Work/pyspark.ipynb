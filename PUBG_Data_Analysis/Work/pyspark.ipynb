{
  "nbformat": 4,
  "nbformat_minor": 0,
  "metadata": {
    "colab": {
      "name": "pyspark.ipynb",
      "provenance": [],
      "collapsed_sections": []
    },
    "kernelspec": {
      "name": "python3",
      "display_name": "Python 3"
    },
    "language_info": {
      "name": "python"
    }
  },
  "cells": [
    {
      "cell_type": "code",
      "metadata": {
        "id": "ZlC4shtLMtZh"
      },
      "source": [
        " # pyspark "
      ],
      "execution_count": null,
      "outputs": []
    },
    {
      "cell_type": "code",
      "metadata": {
        "id": "vUWtOaayq3Zi"
      },
      "source": [
        ""
      ],
      "execution_count": null,
      "outputs": []
    },
    {
      "cell_type": "code",
      "metadata": {
        "id": "8qNeHQ-yLtqn",
        "colab": {
          "base_uri": "https://localhost:8080/"
        },
        "outputId": "3b58bbe1-7b2c-4123-c6f7-85e5d02fc171"
      },
      "source": [
        "pip install pyspark"
      ],
      "execution_count": null,
      "outputs": [
        {
          "output_type": "stream",
          "name": "stdout",
          "text": [
            "Requirement already satisfied: pyspark in /usr/local/lib/python3.7/dist-packages (3.2.0)\n",
            "Requirement already satisfied: py4j==0.10.9.2 in /usr/local/lib/python3.7/dist-packages (from pyspark) (0.10.9.2)\n"
          ]
        }
      ]
    },
    {
      "cell_type": "code",
      "metadata": {
        "id": "j9M42KWLPSzB"
      },
      "source": [
        "import pyspark"
      ],
      "execution_count": null,
      "outputs": []
    },
    {
      "cell_type": "code",
      "metadata": {
        "id": "p3YEur0fPlx0"
      },
      "source": [
        "from pyspark.sql import SparkSession"
      ],
      "execution_count": null,
      "outputs": []
    },
    {
      "cell_type": "code",
      "metadata": {
        "id": "MV5XLBP4P9OO"
      },
      "source": [
        "spark = SparkSession.builder.appName('dataframeapp').getOrCreate()"
      ],
      "execution_count": null,
      "outputs": []
    },
    {
      "cell_type": "code",
      "metadata": {
        "colab": {
          "base_uri": "https://localhost:8080/",
          "height": 219
        },
        "id": "Rdz5nWiDQcNy",
        "outputId": "bf4421f4-e56e-45bf-f2bf-dfded358e723"
      },
      "source": [
        "spark"
      ],
      "execution_count": null,
      "outputs": [
        {
          "output_type": "execute_result",
          "data": {
            "text/html": [
              "\n",
              "            <div>\n",
              "                <p><b>SparkSession - in-memory</b></p>\n",
              "                \n",
              "        <div>\n",
              "            <p><b>SparkContext</b></p>\n",
              "\n",
              "            <p><a href=\"http://464a260a7044:4040\">Spark UI</a></p>\n",
              "\n",
              "            <dl>\n",
              "              <dt>Version</dt>\n",
              "                <dd><code>v3.2.0</code></dd>\n",
              "              <dt>Master</dt>\n",
              "                <dd><code>local[*]</code></dd>\n",
              "              <dt>AppName</dt>\n",
              "                <dd><code>dataframeapp</code></dd>\n",
              "            </dl>\n",
              "        </div>\n",
              "        \n",
              "            </div>\n",
              "        "
            ],
            "text/plain": [
              "<pyspark.sql.session.SparkSession at 0x7f60652950d0>"
            ]
          },
          "metadata": {},
          "execution_count": 260
        }
      ]
    },
    {
      "cell_type": "code",
      "metadata": {
        "id": "eRwrxxe0QkoR"
      },
      "source": [
        "data = spark.read.option('header','True').csv('da13.csv')"
      ],
      "execution_count": null,
      "outputs": []
    },
    {
      "cell_type": "code",
      "metadata": {
        "colab": {
          "base_uri": "https://localhost:8080/"
        },
        "id": "OB2tEFIJR7-R",
        "outputId": "6980ea2d-1bd0-480d-cfb2-ffb89993a3db"
      },
      "source": [
        "data.show()"
      ],
      "execution_count": null,
      "outputs": [
        {
          "output_type": "stream",
          "name": "stdout",
          "text": [
            "+---+----------+---------+---+-----------+-----+\n",
            "| id|first_name|last_name|age|    address|marks|\n",
            "+---+----------+---------+---+-----------+-----+\n",
            "|  1|    yograj|  Gadekar| 24|      Yeola|   70|\n",
            "|  2|   gayatri|  mahajan| 23|     adawad|   65|\n",
            "|  3|    sonali| daithane| 24|      latur|   77|\n",
            "|  4|  abhijeet|  jagdale| 25|     mumbai|   54|\n",
            "|  5|    aditya|   sharma| 22|     mumbai|   55|\n",
            "|  6|    nikhil|  rajgude| 23|chinchpokli|   72|\n",
            "|  7|   kalpana|    ubale| 21|      latur|   66|\n",
            "|  8|     vipul|   mishra| 25|     bandra|   64|\n",
            "|  9|   saloni | kutafale| 24|   buldhana|   74|\n",
            "| 10|   myuari |  gaikwad| 23|   vaijapur|   60|\n",
            "+---+----------+---------+---+-----------+-----+\n",
            "\n"
          ]
        }
      ]
    },
    {
      "cell_type": "code",
      "metadata": {
        "colab": {
          "base_uri": "https://localhost:8080/"
        },
        "id": "N7jsaqy4R_NT",
        "outputId": "7a6306ed-5b33-4c6d-c206-481c9839426f"
      },
      "source": [
        "data.printSchema()"
      ],
      "execution_count": null,
      "outputs": [
        {
          "output_type": "stream",
          "name": "stdout",
          "text": [
            "root\n",
            " |-- id: string (nullable = true)\n",
            " |-- first_name: string (nullable = true)\n",
            " |-- last_name: string (nullable = true)\n",
            " |-- age: string (nullable = true)\n",
            " |--  address: string (nullable = true)\n",
            " |-- marks: string (nullable = true)\n",
            "\n"
          ]
        }
      ]
    },
    {
      "cell_type": "code",
      "metadata": {
        "colab": {
          "base_uri": "https://localhost:8080/"
        },
        "id": "LiZYfpEeSX_Z",
        "outputId": "0c4488ee-c244-4c3c-93dd-a9d6bca7c704"
      },
      "source": [
        "data.head(5)"
      ],
      "execution_count": null,
      "outputs": [
        {
          "output_type": "execute_result",
          "data": {
            "text/plain": [
              "[Row(id='1', first_name='yograj', last_name='Gadekar', age='24',  address='Yeola', marks='70'),\n",
              " Row(id='2', first_name='gayatri', last_name='mahajan', age='23',  address='adawad', marks='65'),\n",
              " Row(id='3', first_name='sonali', last_name='daithane', age='24',  address='latur', marks='77'),\n",
              " Row(id='4', first_name='abhijeet', last_name='jagdale', age='25',  address='mumbai', marks='54'),\n",
              " Row(id='5', first_name='aditya', last_name='sharma', age='22',  address='mumbai', marks='55')]"
            ]
          },
          "metadata": {},
          "execution_count": 264
        }
      ]
    },
    {
      "cell_type": "code",
      "metadata": {
        "colab": {
          "base_uri": "https://localhost:8080/"
        },
        "id": "4zlNHQkgScLv",
        "outputId": "b0e962fd-0ce8-4d36-fde2-53bc0309a588"
      },
      "source": [
        "data.tail(5)"
      ],
      "execution_count": null,
      "outputs": [
        {
          "output_type": "execute_result",
          "data": {
            "text/plain": [
              "[Row(id='6', first_name='nikhil', last_name='rajgude', age='23',  address='chinchpokli', marks='72'),\n",
              " Row(id='7', first_name='kalpana', last_name='ubale', age='21',  address='latur', marks='66'),\n",
              " Row(id='8', first_name='vipul', last_name='mishra', age='25',  address='bandra', marks='64'),\n",
              " Row(id='9', first_name='saloni ', last_name='kutafale', age='24',  address='buldhana', marks='74'),\n",
              " Row(id='10', first_name='myuari ', last_name='gaikwad', age='23',  address='vaijapur', marks='60')]"
            ]
          },
          "metadata": {},
          "execution_count": 265
        }
      ]
    },
    {
      "cell_type": "code",
      "metadata": {
        "colab": {
          "base_uri": "https://localhost:8080/"
        },
        "id": "c0rlCH5kSj5k",
        "outputId": "fd4bcbeb-d4dc-4d74-b811-25ac70d2c8f2"
      },
      "source": [
        "data.columns"
      ],
      "execution_count": null,
      "outputs": [
        {
          "output_type": "execute_result",
          "data": {
            "text/plain": [
              "['id', 'first_name', 'last_name', 'age', ' address', 'marks']"
            ]
          },
          "metadata": {},
          "execution_count": 266
        }
      ]
    },
    {
      "cell_type": "code",
      "metadata": {
        "colab": {
          "base_uri": "https://localhost:8080/"
        },
        "id": "JBGZZfVYTIuw",
        "outputId": "e021e2da-35fc-40ce-866c-9d34f11d8cba"
      },
      "source": [
        "  data.select('first_name','last_name').show()"
      ],
      "execution_count": null,
      "outputs": [
        {
          "output_type": "stream",
          "name": "stdout",
          "text": [
            "+----------+---------+\n",
            "|first_name|last_name|\n",
            "+----------+---------+\n",
            "|    yograj|  Gadekar|\n",
            "|   gayatri|  mahajan|\n",
            "|    sonali| daithane|\n",
            "|  abhijeet|  jagdale|\n",
            "|    aditya|   sharma|\n",
            "|    nikhil|  rajgude|\n",
            "|   kalpana|    ubale|\n",
            "|     vipul|   mishra|\n",
            "|   saloni | kutafale|\n",
            "|   myuari |  gaikwad|\n",
            "+----------+---------+\n",
            "\n"
          ]
        }
      ]
    },
    {
      "cell_type": "code",
      "metadata": {
        "colab": {
          "base_uri": "https://localhost:8080/"
        },
        "id": "f3Glk0_HVYv0",
        "outputId": "0ff366ff-4715-4e78-8a55-52d5042f9fc1"
      },
      "source": [
        "data.describe().show()"
      ],
      "execution_count": null,
      "outputs": [
        {
          "output_type": "stream",
          "name": "stdout",
          "text": [
            "+-------+------------------+----------+---------+------------------+--------+-----------------+\n",
            "|summary|                id|first_name|last_name|               age| address|            marks|\n",
            "+-------+------------------+----------+---------+------------------+--------+-----------------+\n",
            "|  count|                10|        10|       10|                10|      10|               10|\n",
            "|   mean|               5.5|      null|     null|              23.4|    null|             65.7|\n",
            "| stddev|3.0276503540974917|      null|     null|1.2649110640673518|    null|7.761013679496599|\n",
            "|    min|                 1|  abhijeet|  Gadekar|                21|   Yeola|               54|\n",
            "|    max|                 9|    yograj|    ubale|                25|vaijapur|               77|\n",
            "+-------+------------------+----------+---------+------------------+--------+-----------------+\n",
            "\n"
          ]
        }
      ]
    },
    {
      "cell_type": "code",
      "metadata": {
        "id": "z7vAgkArVlLa"
      },
      "source": [
        "data1 = spark.read.csv('IrisNULLData.data')"
      ],
      "execution_count": null,
      "outputs": []
    },
    {
      "cell_type": "code",
      "metadata": {
        "colab": {
          "base_uri": "https://localhost:8080/"
        },
        "id": "bDsVH6FdXoAl",
        "outputId": "e50c66cf-2f71-401c-ab51-2231591a49bb"
      },
      "source": [
        "data1.show()"
      ],
      "execution_count": null,
      "outputs": [
        {
          "output_type": "stream",
          "name": "stdout",
          "text": [
            "+----+----+----+----+-----------+\n",
            "| _c0| _c1| _c2| _c3|        _c4|\n",
            "+----+----+----+----+-----------+\n",
            "|null| 3.5| 1.4| 0.2|Iris-setosa|\n",
            "|null|null| 1.4| 0.2|Iris-setosa|\n",
            "|null|null|null| 0.2|Iris-setosa|\n",
            "|null|null|null|null|Iris-setosa|\n",
            "|null|null|null|null|       null|\n",
            "|null| 3.9| 1.7| 0.4|       null|\n",
            "| 4.6|null| 1.4|null|Iris-setosa|\n",
            "|null| 3.4|null| 0.2|Iris-setosa|\n",
            "| 4.4|null| 1.4|null|       null|\n",
            "|null|null| 1.5|null|Iris-setosa|\n",
            "| 5.4|null| 1.5|null|       null|\n",
            "|null|null|null| 0.2|Iris-setosa|\n",
            "| 4.8|null|null| 0.1|Iris-setosa|\n",
            "|null|null|null| 0.1|       null|\n",
            "| 5.8| 4.0| 1.2| 0.2|Iris-setosa|\n",
            "|null|null|null|null|Iris-setosa|\n",
            "| 5.4| 3.9| 1.3| 0.4|Iris-setosa|\n",
            "| 5.1| 3.5| 1.4| 0.3|Iris-setosa|\n",
            "| 5.7| 3.8| 1.7| 0.3|Iris-setosa|\n",
            "| 5.1| 3.8| 1.5| 0.3|Iris-setosa|\n",
            "+----+----+----+----+-----------+\n",
            "only showing top 20 rows\n",
            "\n"
          ]
        }
      ]
    },
    {
      "cell_type": "code",
      "metadata": {
        "colab": {
          "base_uri": "https://localhost:8080/"
        },
        "id": "tcHALpg-YEoz",
        "outputId": "35963a31-00e2-4407-bea7-bceb31fad3c1"
      },
      "source": [
        "data1.printSchema()"
      ],
      "execution_count": null,
      "outputs": [
        {
          "output_type": "stream",
          "name": "stdout",
          "text": [
            "root\n",
            " |-- _c0: string (nullable = true)\n",
            " |-- _c1: string (nullable = true)\n",
            " |-- _c2: string (nullable = true)\n",
            " |-- _c3: string (nullable = true)\n",
            " |-- _c4: string (nullable = true)\n",
            "\n"
          ]
        }
      ]
    },
    {
      "cell_type": "code",
      "metadata": {
        "colab": {
          "base_uri": "https://localhost:8080/"
        },
        "id": "VxN01TTrYLQV",
        "outputId": "bcc53580-f3cb-4411-cd3e-5a8cfc8767c7"
      },
      "source": [
        "data1.columns"
      ],
      "execution_count": null,
      "outputs": [
        {
          "output_type": "execute_result",
          "data": {
            "text/plain": [
              "['_c0', '_c1', '_c2', '_c3', '_c4']"
            ]
          },
          "metadata": {},
          "execution_count": 272
        }
      ]
    },
    {
      "cell_type": "code",
      "metadata": {
        "id": "KSs4Fuy9YPHT"
      },
      "source": [
        "data1 = data1.withColumnRenamed('_c0','sepal_lenght')\\\n",
        ".withColumnRenamed('_c1','sepal_width')\\\n",
        ".withColumnRenamed('_c2','petel_lenght')\\\n",
        ".withColumnRenamed('_c3','petel_width')\\\n",
        ".withColumnRenamed('_c4','class')"
      ],
      "execution_count": null,
      "outputs": []
    },
    {
      "cell_type": "code",
      "metadata": {
        "colab": {
          "base_uri": "https://localhost:8080/"
        },
        "id": "xYOMSbKNY2RG",
        "outputId": "9ca27ae9-b798-453d-debd-c538ba352cd0"
      },
      "source": [
        "data1.columns"
      ],
      "execution_count": null,
      "outputs": [
        {
          "output_type": "execute_result",
          "data": {
            "text/plain": [
              "['sepal_lenght', 'sepal_width', 'petel_lenght', 'petel_width', 'class']"
            ]
          },
          "metadata": {},
          "execution_count": 274
        }
      ]
    },
    {
      "cell_type": "code",
      "metadata": {
        "colab": {
          "base_uri": "https://localhost:8080/"
        },
        "id": "XBio8JbwY6g3",
        "outputId": "bf43b0a0-9e62-45c7-e698-fe4130dbb76b"
      },
      "source": [
        "data1.show()"
      ],
      "execution_count": null,
      "outputs": [
        {
          "output_type": "stream",
          "name": "stdout",
          "text": [
            "+------------+-----------+------------+-----------+-----------+\n",
            "|sepal_lenght|sepal_width|petel_lenght|petel_width|      class|\n",
            "+------------+-----------+------------+-----------+-----------+\n",
            "|        null|        3.5|         1.4|        0.2|Iris-setosa|\n",
            "|        null|       null|         1.4|        0.2|Iris-setosa|\n",
            "|        null|       null|        null|        0.2|Iris-setosa|\n",
            "|        null|       null|        null|       null|Iris-setosa|\n",
            "|        null|       null|        null|       null|       null|\n",
            "|        null|        3.9|         1.7|        0.4|       null|\n",
            "|         4.6|       null|         1.4|       null|Iris-setosa|\n",
            "|        null|        3.4|        null|        0.2|Iris-setosa|\n",
            "|         4.4|       null|         1.4|       null|       null|\n",
            "|        null|       null|         1.5|       null|Iris-setosa|\n",
            "|         5.4|       null|         1.5|       null|       null|\n",
            "|        null|       null|        null|        0.2|Iris-setosa|\n",
            "|         4.8|       null|        null|        0.1|Iris-setosa|\n",
            "|        null|       null|        null|        0.1|       null|\n",
            "|         5.8|        4.0|         1.2|        0.2|Iris-setosa|\n",
            "|        null|       null|        null|       null|Iris-setosa|\n",
            "|         5.4|        3.9|         1.3|        0.4|Iris-setosa|\n",
            "|         5.1|        3.5|         1.4|        0.3|Iris-setosa|\n",
            "|         5.7|        3.8|         1.7|        0.3|Iris-setosa|\n",
            "|         5.1|        3.8|         1.5|        0.3|Iris-setosa|\n",
            "+------------+-----------+------------+-----------+-----------+\n",
            "only showing top 20 rows\n",
            "\n"
          ]
        }
      ]
    },
    {
      "cell_type": "code",
      "metadata": {
        "id": "pjDLoPV7Y8U2"
      },
      "source": [
        ""
      ],
      "execution_count": null,
      "outputs": []
    },
    {
      "cell_type": "code",
      "metadata": {
        "id": "KL6-ikF1Zvfr"
      },
      "source": [
        ""
      ],
      "execution_count": null,
      "outputs": []
    },
    {
      "cell_type": "code",
      "metadata": {
        "id": "dnLuxzClZvdE"
      },
      "source": [
        "data2 = data1.withColumn('sl+sw', data1['sepal_lenght']+data1['sepal_width'])"
      ],
      "execution_count": null,
      "outputs": []
    },
    {
      "cell_type": "code",
      "metadata": {
        "colab": {
          "base_uri": "https://localhost:8080/"
        },
        "id": "NF_ZoVdjZi4x",
        "outputId": "62c68f0b-1ba7-450d-a035-0adac57f8aae"
      },
      "source": [
        "data2.show()"
      ],
      "execution_count": null,
      "outputs": [
        {
          "output_type": "stream",
          "name": "stdout",
          "text": [
            "+------------+-----------+------------+-----------+-----------+-----------------+\n",
            "|sepal_lenght|sepal_width|petel_lenght|petel_width|      class|            sl+sw|\n",
            "+------------+-----------+------------+-----------+-----------+-----------------+\n",
            "|        null|        3.5|         1.4|        0.2|Iris-setosa|             null|\n",
            "|        null|       null|         1.4|        0.2|Iris-setosa|             null|\n",
            "|        null|       null|        null|        0.2|Iris-setosa|             null|\n",
            "|        null|       null|        null|       null|Iris-setosa|             null|\n",
            "|        null|       null|        null|       null|       null|             null|\n",
            "|        null|        3.9|         1.7|        0.4|       null|             null|\n",
            "|         4.6|       null|         1.4|       null|Iris-setosa|             null|\n",
            "|        null|        3.4|        null|        0.2|Iris-setosa|             null|\n",
            "|         4.4|       null|         1.4|       null|       null|             null|\n",
            "|        null|       null|         1.5|       null|Iris-setosa|             null|\n",
            "|         5.4|       null|         1.5|       null|       null|             null|\n",
            "|        null|       null|        null|        0.2|Iris-setosa|             null|\n",
            "|         4.8|       null|        null|        0.1|Iris-setosa|             null|\n",
            "|        null|       null|        null|        0.1|       null|             null|\n",
            "|         5.8|        4.0|         1.2|        0.2|Iris-setosa|              9.8|\n",
            "|        null|       null|        null|       null|Iris-setosa|             null|\n",
            "|         5.4|        3.9|         1.3|        0.4|Iris-setosa|              9.3|\n",
            "|         5.1|        3.5|         1.4|        0.3|Iris-setosa|              8.6|\n",
            "|         5.7|        3.8|         1.7|        0.3|Iris-setosa|              9.5|\n",
            "|         5.1|        3.8|         1.5|        0.3|Iris-setosa|8.899999999999999|\n",
            "+------------+-----------+------------+-----------+-----------+-----------------+\n",
            "only showing top 20 rows\n",
            "\n"
          ]
        }
      ]
    },
    {
      "cell_type": "code",
      "metadata": {
        "colab": {
          "base_uri": "https://localhost:8080/"
        },
        "id": "mI2nfTRyaw3E",
        "outputId": "f9a07ed7-d503-4cd6-f22d-57ba16c96bfc"
      },
      "source": [
        "data1.drop('sl+sw').show()"
      ],
      "execution_count": null,
      "outputs": [
        {
          "output_type": "stream",
          "name": "stdout",
          "text": [
            "+------------+-----------+------------+-----------+-----------+\n",
            "|sepal_lenght|sepal_width|petel_lenght|petel_width|      class|\n",
            "+------------+-----------+------------+-----------+-----------+\n",
            "|        null|        3.5|         1.4|        0.2|Iris-setosa|\n",
            "|        null|       null|         1.4|        0.2|Iris-setosa|\n",
            "|        null|       null|        null|        0.2|Iris-setosa|\n",
            "|        null|       null|        null|       null|Iris-setosa|\n",
            "|        null|       null|        null|       null|       null|\n",
            "|        null|        3.9|         1.7|        0.4|       null|\n",
            "|         4.6|       null|         1.4|       null|Iris-setosa|\n",
            "|        null|        3.4|        null|        0.2|Iris-setosa|\n",
            "|         4.4|       null|         1.4|       null|       null|\n",
            "|        null|       null|         1.5|       null|Iris-setosa|\n",
            "|         5.4|       null|         1.5|       null|       null|\n",
            "|        null|       null|        null|        0.2|Iris-setosa|\n",
            "|         4.8|       null|        null|        0.1|Iris-setosa|\n",
            "|        null|       null|        null|        0.1|       null|\n",
            "|         5.8|        4.0|         1.2|        0.2|Iris-setosa|\n",
            "|        null|       null|        null|       null|Iris-setosa|\n",
            "|         5.4|        3.9|         1.3|        0.4|Iris-setosa|\n",
            "|         5.1|        3.5|         1.4|        0.3|Iris-setosa|\n",
            "|         5.7|        3.8|         1.7|        0.3|Iris-setosa|\n",
            "|         5.1|        3.8|         1.5|        0.3|Iris-setosa|\n",
            "+------------+-----------+------------+-----------+-----------+\n",
            "only showing top 20 rows\n",
            "\n"
          ]
        }
      ]
    },
    {
      "cell_type": "code",
      "metadata": {
        "colab": {
          "base_uri": "https://localhost:8080/"
        },
        "id": "UkkVVJPUbdAO",
        "outputId": "103adb9a-9211-434c-e421-7a4d50d9b1eb"
      },
      "source": [
        "data2.show()"
      ],
      "execution_count": null,
      "outputs": [
        {
          "output_type": "stream",
          "name": "stdout",
          "text": [
            "+------------+-----------+------------+-----------+-----------+-----------------+\n",
            "|sepal_lenght|sepal_width|petel_lenght|petel_width|      class|            sl+sw|\n",
            "+------------+-----------+------------+-----------+-----------+-----------------+\n",
            "|        null|        3.5|         1.4|        0.2|Iris-setosa|             null|\n",
            "|        null|       null|         1.4|        0.2|Iris-setosa|             null|\n",
            "|        null|       null|        null|        0.2|Iris-setosa|             null|\n",
            "|        null|       null|        null|       null|Iris-setosa|             null|\n",
            "|        null|       null|        null|       null|       null|             null|\n",
            "|        null|        3.9|         1.7|        0.4|       null|             null|\n",
            "|         4.6|       null|         1.4|       null|Iris-setosa|             null|\n",
            "|        null|        3.4|        null|        0.2|Iris-setosa|             null|\n",
            "|         4.4|       null|         1.4|       null|       null|             null|\n",
            "|        null|       null|         1.5|       null|Iris-setosa|             null|\n",
            "|         5.4|       null|         1.5|       null|       null|             null|\n",
            "|        null|       null|        null|        0.2|Iris-setosa|             null|\n",
            "|         4.8|       null|        null|        0.1|Iris-setosa|             null|\n",
            "|        null|       null|        null|        0.1|       null|             null|\n",
            "|         5.8|        4.0|         1.2|        0.2|Iris-setosa|              9.8|\n",
            "|        null|       null|        null|       null|Iris-setosa|             null|\n",
            "|         5.4|        3.9|         1.3|        0.4|Iris-setosa|              9.3|\n",
            "|         5.1|        3.5|         1.4|        0.3|Iris-setosa|              8.6|\n",
            "|         5.7|        3.8|         1.7|        0.3|Iris-setosa|              9.5|\n",
            "|         5.1|        3.8|         1.5|        0.3|Iris-setosa|8.899999999999999|\n",
            "+------------+-----------+------------+-----------+-----------+-----------------+\n",
            "only showing top 20 rows\n",
            "\n"
          ]
        }
      ]
    },
    {
      "cell_type": "code",
      "metadata": {
        "colab": {
          "base_uri": "https://localhost:8080/"
        },
        "id": "ejmYrmvMbzZo",
        "outputId": "7c4054ad-5256-4543-a2ef-1f4c322f4e50"
      },
      "source": [
        "data2.na.drop().show()\n"
      ],
      "execution_count": null,
      "outputs": [
        {
          "output_type": "stream",
          "name": "stdout",
          "text": [
            "+------------+-----------+------------+-----------+-----------+-----------------+\n",
            "|sepal_lenght|sepal_width|petel_lenght|petel_width|      class|            sl+sw|\n",
            "+------------+-----------+------------+-----------+-----------+-----------------+\n",
            "|         5.8|        4.0|         1.2|        0.2|Iris-setosa|              9.8|\n",
            "|         5.4|        3.9|         1.3|        0.4|Iris-setosa|              9.3|\n",
            "|         5.1|        3.5|         1.4|        0.3|Iris-setosa|              8.6|\n",
            "|         5.7|        3.8|         1.7|        0.3|Iris-setosa|              9.5|\n",
            "|         5.1|        3.8|         1.5|        0.3|Iris-setosa|8.899999999999999|\n",
            "|         5.4|        3.4|         1.7|        0.2|Iris-setosa|              8.8|\n",
            "|         5.1|        3.7|         1.5|        0.4|Iris-setosa|              8.8|\n",
            "|         4.6|        3.6|         1.0|        0.2|Iris-setosa|              8.2|\n",
            "|         5.1|        3.3|         1.7|        0.5|Iris-setosa|8.399999999999999|\n",
            "|         5.0|        3.4|         1.6|        0.4|Iris-setosa|              8.4|\n",
            "|         5.2|        3.5|         1.5|        0.2|Iris-setosa|              8.7|\n",
            "|         5.2|        3.4|         1.4|        0.2|Iris-setosa|              8.6|\n",
            "|         4.8|        3.1|         1.6|        0.2|Iris-setosa|              7.9|\n",
            "|         5.4|        3.4|         1.5|        0.4|Iris-setosa|              8.8|\n",
            "|         5.2|        4.1|         1.5|        0.1|Iris-setosa|              9.3|\n",
            "|         5.5|        4.2|         1.4|        0.2|Iris-setosa|              9.7|\n",
            "|         4.9|        3.1|         1.5|        0.1|Iris-setosa|              8.0|\n",
            "|         5.0|        3.2|         1.2|        0.2|Iris-setosa|              8.2|\n",
            "|         5.5|        3.5|         1.3|        0.2|Iris-setosa|              9.0|\n",
            "|         4.9|        3.1|         1.5|        0.1|Iris-setosa|              8.0|\n",
            "+------------+-----------+------------+-----------+-----------+-----------------+\n",
            "only showing top 20 rows\n",
            "\n"
          ]
        }
      ]
    },
    {
      "cell_type": "code",
      "metadata": {
        "colab": {
          "base_uri": "https://localhost:8080/"
        },
        "id": "bwubGM3tggn6",
        "outputId": "33fed365-fdab-476d-fa36-f0591d514d4b"
      },
      "source": [
        "data2.show()"
      ],
      "execution_count": null,
      "outputs": [
        {
          "output_type": "stream",
          "name": "stdout",
          "text": [
            "+------------+-----------+------------+-----------+-----------+-----------------+\n",
            "|sepal_lenght|sepal_width|petel_lenght|petel_width|      class|            sl+sw|\n",
            "+------------+-----------+------------+-----------+-----------+-----------------+\n",
            "|        null|        3.5|         1.4|        0.2|Iris-setosa|             null|\n",
            "|        null|       null|         1.4|        0.2|Iris-setosa|             null|\n",
            "|        null|       null|        null|        0.2|Iris-setosa|             null|\n",
            "|        null|       null|        null|       null|Iris-setosa|             null|\n",
            "|        null|       null|        null|       null|       null|             null|\n",
            "|        null|        3.9|         1.7|        0.4|       null|             null|\n",
            "|         4.6|       null|         1.4|       null|Iris-setosa|             null|\n",
            "|        null|        3.4|        null|        0.2|Iris-setosa|             null|\n",
            "|         4.4|       null|         1.4|       null|       null|             null|\n",
            "|        null|       null|         1.5|       null|Iris-setosa|             null|\n",
            "|         5.4|       null|         1.5|       null|       null|             null|\n",
            "|        null|       null|        null|        0.2|Iris-setosa|             null|\n",
            "|         4.8|       null|        null|        0.1|Iris-setosa|             null|\n",
            "|        null|       null|        null|        0.1|       null|             null|\n",
            "|         5.8|        4.0|         1.2|        0.2|Iris-setosa|              9.8|\n",
            "|        null|       null|        null|       null|Iris-setosa|             null|\n",
            "|         5.4|        3.9|         1.3|        0.4|Iris-setosa|              9.3|\n",
            "|         5.1|        3.5|         1.4|        0.3|Iris-setosa|              8.6|\n",
            "|         5.7|        3.8|         1.7|        0.3|Iris-setosa|              9.5|\n",
            "|         5.1|        3.8|         1.5|        0.3|Iris-setosa|8.899999999999999|\n",
            "+------------+-----------+------------+-----------+-----------+-----------------+\n",
            "only showing top 20 rows\n",
            "\n"
          ]
        }
      ]
    },
    {
      "cell_type": "code",
      "metadata": {
        "colab": {
          "base_uri": "https://localhost:8080/"
        },
        "id": "52YhIELzcVIQ",
        "outputId": "2cf1ec71-74d3-471b-de19-a3002a8bc9cb"
      },
      "source": [
        "# thresh can be access to remove only non_null_values\n",
        "data2.na.drop(thresh=3).show()"
      ],
      "execution_count": null,
      "outputs": [
        {
          "output_type": "stream",
          "name": "stdout",
          "text": [
            "+------------+-----------+------------+-----------+-----------+-----------------+\n",
            "|sepal_lenght|sepal_width|petel_lenght|petel_width|      class|            sl+sw|\n",
            "+------------+-----------+------------+-----------+-----------+-----------------+\n",
            "|        null|        3.5|         1.4|        0.2|Iris-setosa|             null|\n",
            "|        null|       null|         1.4|        0.2|Iris-setosa|             null|\n",
            "|        null|        3.9|         1.7|        0.4|       null|             null|\n",
            "|         4.6|       null|         1.4|       null|Iris-setosa|             null|\n",
            "|        null|        3.4|        null|        0.2|Iris-setosa|             null|\n",
            "|         4.8|       null|        null|        0.1|Iris-setosa|             null|\n",
            "|         5.8|        4.0|         1.2|        0.2|Iris-setosa|              9.8|\n",
            "|         5.4|        3.9|         1.3|        0.4|Iris-setosa|              9.3|\n",
            "|         5.1|        3.5|         1.4|        0.3|Iris-setosa|              8.6|\n",
            "|         5.7|        3.8|         1.7|        0.3|Iris-setosa|              9.5|\n",
            "|         5.1|        3.8|         1.5|        0.3|Iris-setosa|8.899999999999999|\n",
            "|         5.4|        3.4|         1.7|        0.2|Iris-setosa|              8.8|\n",
            "|         5.1|        3.7|         1.5|        0.4|Iris-setosa|              8.8|\n",
            "|         4.6|        3.6|         1.0|        0.2|Iris-setosa|              8.2|\n",
            "|         5.1|        3.3|         1.7|        0.5|Iris-setosa|8.399999999999999|\n",
            "|         5.0|        3.4|         1.6|        0.4|Iris-setosa|              8.4|\n",
            "|         5.2|        3.5|         1.5|        0.2|Iris-setosa|              8.7|\n",
            "|         5.2|        3.4|         1.4|        0.2|Iris-setosa|              8.6|\n",
            "|         4.7|       null|        null|        0.2|Iris-setosa|             null|\n",
            "|         4.8|        3.1|         1.6|        0.2|Iris-setosa|              7.9|\n",
            "+------------+-----------+------------+-----------+-----------+-----------------+\n",
            "only showing top 20 rows\n",
            "\n"
          ]
        }
      ]
    },
    {
      "cell_type": "code",
      "metadata": {
        "colab": {
          "base_uri": "https://localhost:8080/"
        },
        "id": "omkkQ9eJffyn",
        "outputId": "28456db3-b0b6-4975-8911-8920886423b8"
      },
      "source": [
        "data2.show()"
      ],
      "execution_count": null,
      "outputs": [
        {
          "output_type": "stream",
          "name": "stdout",
          "text": [
            "+------------+-----------+------------+-----------+-----------+-----------------+\n",
            "|sepal_lenght|sepal_width|petel_lenght|petel_width|      class|            sl+sw|\n",
            "+------------+-----------+------------+-----------+-----------+-----------------+\n",
            "|        null|        3.5|         1.4|        0.2|Iris-setosa|             null|\n",
            "|        null|       null|         1.4|        0.2|Iris-setosa|             null|\n",
            "|        null|       null|        null|        0.2|Iris-setosa|             null|\n",
            "|        null|       null|        null|       null|Iris-setosa|             null|\n",
            "|        null|       null|        null|       null|       null|             null|\n",
            "|        null|        3.9|         1.7|        0.4|       null|             null|\n",
            "|         4.6|       null|         1.4|       null|Iris-setosa|             null|\n",
            "|        null|        3.4|        null|        0.2|Iris-setosa|             null|\n",
            "|         4.4|       null|         1.4|       null|       null|             null|\n",
            "|        null|       null|         1.5|       null|Iris-setosa|             null|\n",
            "|         5.4|       null|         1.5|       null|       null|             null|\n",
            "|        null|       null|        null|        0.2|Iris-setosa|             null|\n",
            "|         4.8|       null|        null|        0.1|Iris-setosa|             null|\n",
            "|        null|       null|        null|        0.1|       null|             null|\n",
            "|         5.8|        4.0|         1.2|        0.2|Iris-setosa|              9.8|\n",
            "|        null|       null|        null|       null|Iris-setosa|             null|\n",
            "|         5.4|        3.9|         1.3|        0.4|Iris-setosa|              9.3|\n",
            "|         5.1|        3.5|         1.4|        0.3|Iris-setosa|              8.6|\n",
            "|         5.7|        3.8|         1.7|        0.3|Iris-setosa|              9.5|\n",
            "|         5.1|        3.8|         1.5|        0.3|Iris-setosa|8.899999999999999|\n",
            "+------------+-----------+------------+-----------+-----------+-----------------+\n",
            "only showing top 20 rows\n",
            "\n"
          ]
        }
      ]
    },
    {
      "cell_type": "code",
      "metadata": {
        "colab": {
          "base_uri": "https://localhost:8080/"
        },
        "id": "UMJ9P5SBkiCD",
        "outputId": "734fbb64-6e51-41a9-a07f-fd8f7aaca911"
      },
      "source": [
        "# subset means it can drop all null values in perticular column \n",
        "# also this columns sepal_lenght,sepal_width, petel_lenght, petel_width are dependent on the class column\n",
        "data2.na.drop(subset='class').show()"
      ],
      "execution_count": null,
      "outputs": [
        {
          "output_type": "stream",
          "name": "stdout",
          "text": [
            "+------------+-----------+------------+-----------+-----------+-----------------+\n",
            "|sepal_lenght|sepal_width|petel_lenght|petel_width|      class|            sl+sw|\n",
            "+------------+-----------+------------+-----------+-----------+-----------------+\n",
            "|        null|        3.5|         1.4|        0.2|Iris-setosa|             null|\n",
            "|        null|       null|         1.4|        0.2|Iris-setosa|             null|\n",
            "|        null|       null|        null|        0.2|Iris-setosa|             null|\n",
            "|        null|       null|        null|       null|Iris-setosa|             null|\n",
            "|         4.6|       null|         1.4|       null|Iris-setosa|             null|\n",
            "|        null|        3.4|        null|        0.2|Iris-setosa|             null|\n",
            "|        null|       null|         1.5|       null|Iris-setosa|             null|\n",
            "|        null|       null|        null|        0.2|Iris-setosa|             null|\n",
            "|         4.8|       null|        null|        0.1|Iris-setosa|             null|\n",
            "|         5.8|        4.0|         1.2|        0.2|Iris-setosa|              9.8|\n",
            "|        null|       null|        null|       null|Iris-setosa|             null|\n",
            "|         5.4|        3.9|         1.3|        0.4|Iris-setosa|              9.3|\n",
            "|         5.1|        3.5|         1.4|        0.3|Iris-setosa|              8.6|\n",
            "|         5.7|        3.8|         1.7|        0.3|Iris-setosa|              9.5|\n",
            "|         5.1|        3.8|         1.5|        0.3|Iris-setosa|8.899999999999999|\n",
            "|         5.4|        3.4|         1.7|        0.2|Iris-setosa|              8.8|\n",
            "|         5.1|        3.7|         1.5|        0.4|Iris-setosa|              8.8|\n",
            "|         4.6|        3.6|         1.0|        0.2|Iris-setosa|              8.2|\n",
            "|         5.1|        3.3|         1.7|        0.5|Iris-setosa|8.399999999999999|\n",
            "|        null|       null|        null|       null|Iris-setosa|             null|\n",
            "+------------+-----------+------------+-----------+-----------+-----------------+\n",
            "only showing top 20 rows\n",
            "\n"
          ]
        }
      ]
    },
    {
      "cell_type": "code",
      "metadata": {
        "colab": {
          "base_uri": "https://localhost:8080/"
        },
        "id": "suWPfuEnkp6z",
        "outputId": "5c043554-e4e2-4526-fcaf-d210a052a079"
      },
      "source": [
        "data2.na.drop(how='all').show()"
      ],
      "execution_count": null,
      "outputs": [
        {
          "output_type": "stream",
          "name": "stdout",
          "text": [
            "+------------+-----------+------------+-----------+-----------+-----------------+\n",
            "|sepal_lenght|sepal_width|petel_lenght|petel_width|      class|            sl+sw|\n",
            "+------------+-----------+------------+-----------+-----------+-----------------+\n",
            "|        null|        3.5|         1.4|        0.2|Iris-setosa|             null|\n",
            "|        null|       null|         1.4|        0.2|Iris-setosa|             null|\n",
            "|        null|       null|        null|        0.2|Iris-setosa|             null|\n",
            "|        null|       null|        null|       null|Iris-setosa|             null|\n",
            "|        null|        3.9|         1.7|        0.4|       null|             null|\n",
            "|         4.6|       null|         1.4|       null|Iris-setosa|             null|\n",
            "|        null|        3.4|        null|        0.2|Iris-setosa|             null|\n",
            "|         4.4|       null|         1.4|       null|       null|             null|\n",
            "|        null|       null|         1.5|       null|Iris-setosa|             null|\n",
            "|         5.4|       null|         1.5|       null|       null|             null|\n",
            "|        null|       null|        null|        0.2|Iris-setosa|             null|\n",
            "|         4.8|       null|        null|        0.1|Iris-setosa|             null|\n",
            "|        null|       null|        null|        0.1|       null|             null|\n",
            "|         5.8|        4.0|         1.2|        0.2|Iris-setosa|              9.8|\n",
            "|        null|       null|        null|       null|Iris-setosa|             null|\n",
            "|         5.4|        3.9|         1.3|        0.4|Iris-setosa|              9.3|\n",
            "|         5.1|        3.5|         1.4|        0.3|Iris-setosa|              8.6|\n",
            "|         5.7|        3.8|         1.7|        0.3|Iris-setosa|              9.5|\n",
            "|         5.1|        3.8|         1.5|        0.3|Iris-setosa|8.899999999999999|\n",
            "|         5.4|        3.4|         1.7|        0.2|Iris-setosa|              8.8|\n",
            "+------------+-----------+------------+-----------+-----------+-----------------+\n",
            "only showing top 20 rows\n",
            "\n"
          ]
        }
      ]
    },
    {
      "cell_type": "code",
      "metadata": {
        "colab": {
          "base_uri": "https://localhost:8080/"
        },
        "id": "ASpZN5Gtoyzh",
        "outputId": "ed806a28-462e-4761-fe41-d5dbeb10e1a3"
      },
      "source": [
        "data2.na.fill('--').show()"
      ],
      "execution_count": null,
      "outputs": [
        {
          "output_type": "stream",
          "name": "stdout",
          "text": [
            "+------------+-----------+------------+-----------+-----------+-----------------+\n",
            "|sepal_lenght|sepal_width|petel_lenght|petel_width|      class|            sl+sw|\n",
            "+------------+-----------+------------+-----------+-----------+-----------------+\n",
            "|          --|        3.5|         1.4|        0.2|Iris-setosa|             null|\n",
            "|          --|         --|         1.4|        0.2|Iris-setosa|             null|\n",
            "|          --|         --|          --|        0.2|Iris-setosa|             null|\n",
            "|          --|         --|          --|         --|Iris-setosa|             null|\n",
            "|          --|         --|          --|         --|         --|             null|\n",
            "|          --|        3.9|         1.7|        0.4|         --|             null|\n",
            "|         4.6|         --|         1.4|         --|Iris-setosa|             null|\n",
            "|          --|        3.4|          --|        0.2|Iris-setosa|             null|\n",
            "|         4.4|         --|         1.4|         --|         --|             null|\n",
            "|          --|         --|         1.5|         --|Iris-setosa|             null|\n",
            "|         5.4|         --|         1.5|         --|         --|             null|\n",
            "|          --|         --|          --|        0.2|Iris-setosa|             null|\n",
            "|         4.8|         --|          --|        0.1|Iris-setosa|             null|\n",
            "|          --|         --|          --|        0.1|         --|             null|\n",
            "|         5.8|        4.0|         1.2|        0.2|Iris-setosa|              9.8|\n",
            "|          --|         --|          --|         --|Iris-setosa|             null|\n",
            "|         5.4|        3.9|         1.3|        0.4|Iris-setosa|              9.3|\n",
            "|         5.1|        3.5|         1.4|        0.3|Iris-setosa|              8.6|\n",
            "|         5.7|        3.8|         1.7|        0.3|Iris-setosa|              9.5|\n",
            "|         5.1|        3.8|         1.5|        0.3|Iris-setosa|8.899999999999999|\n",
            "+------------+-----------+------------+-----------+-----------+-----------------+\n",
            "only showing top 20 rows\n",
            "\n"
          ]
        }
      ]
    },
    {
      "cell_type": "code",
      "metadata": {
        "id": "0NsWLlhusDo9",
        "colab": {
          "base_uri": "https://localhost:8080/"
        },
        "outputId": "8aea6e7a-1d58-4b0b-911d-4813f863fe20"
      },
      "source": [
        "data2.filter"
      ],
      "execution_count": null,
      "outputs": [
        {
          "output_type": "execute_result",
          "data": {
            "text/plain": [
              "<bound method DataFrame.filter of DataFrame[sepal_lenght: string, sepal_width: string, petel_lenght: string, petel_width: string, class: string, sl+sw: double]>"
            ]
          },
          "metadata": {},
          "execution_count": 287
        }
      ]
    },
    {
      "cell_type": "code",
      "metadata": {
        "colab": {
          "base_uri": "https://localhost:8080/"
        },
        "id": "kISaRcvGX_q7",
        "outputId": "5e5b0f2a-1bf2-41d9-84b3-a806bd459be5"
      },
      "source": [
        "# We arecalculating the no of null values present in the data on the basis of classes\n",
        "data2.groupBy('class').count().show()"
      ],
      "execution_count": null,
      "outputs": [
        {
          "output_type": "stream",
          "name": "stdout",
          "text": [
            "+---------------+-----+\n",
            "|          class|count|\n",
            "+---------------+-----+\n",
            "| Iris-virginica|   50|\n",
            "|    Iris-setosa|   45|\n",
            "|Iris-versicolor|   50|\n",
            "|           null|    5|\n",
            "+---------------+-----+\n",
            "\n"
          ]
        }
      ]
    },
    {
      "cell_type": "code",
      "metadata": {
        "colab": {
          "base_uri": "https://localhost:8080/"
        },
        "id": "_xfgEfbaYIEQ",
        "outputId": "2b1943a7-375f-425a-f933-8423ce822af7"
      },
      "source": [
        "data2.groupBy('petel_width').count().show()"
      ],
      "execution_count": null,
      "outputs": [
        {
          "output_type": "stream",
          "name": "stdout",
          "text": [
            "+-----------+-----+\n",
            "|petel_width|count|\n",
            "+-----------+-----+\n",
            "|        1.0|    7|\n",
            "|        0.3|    6|\n",
            "|        1.7|    2|\n",
            "|        0.2|   23|\n",
            "|        2.5|    3|\n",
            "|        2.4|    3|\n",
            "|        1.6|    4|\n",
            "|        1.8|   12|\n",
            "|        1.4|    8|\n",
            "|        0.5|    1|\n",
            "|        1.9|    5|\n",
            "|        0.6|    1|\n",
            "|        0.1|    5|\n",
            "|        1.3|   13|\n",
            "|        1.5|   12|\n",
            "|        2.0|    6|\n",
            "|        2.2|    3|\n",
            "|        1.1|    3|\n",
            "|        2.3|    8|\n",
            "|        2.1|    6|\n",
            "+-----------+-----+\n",
            "only showing top 20 rows\n",
            "\n"
          ]
        }
      ]
    },
    {
      "cell_type": "code",
      "metadata": {
        "id": "2HrjeSKzdLm2"
      },
      "source": [
        "# this is use to change the datatype of any variable using data.withColumn\n",
        "\n",
        "data1 = data1.withColumn('petel_width', data1['petel_width'].astype('string'))\n",
        "data1 = data1.withColumn('petel_lenght', data1['petel_lenght'].astype('string'))\n",
        "data1 = data1.withColumn('sepal_width', data1['sepal_width'].astype('string'))\n",
        "data1 = data1.withColumn('sepal_lenght', data1['sepal_lenght'].astype('string'))"
      ],
      "execution_count": null,
      "outputs": []
    },
    {
      "cell_type": "code",
      "metadata": {
        "colab": {
          "base_uri": "https://localhost:8080/"
        },
        "id": "dWNA6Yd_eEKa",
        "outputId": "7b4a3c2f-ae6b-4625-a9d0-bab23aebe534"
      },
      "source": [
        "data1.printSchema()"
      ],
      "execution_count": null,
      "outputs": [
        {
          "output_type": "stream",
          "name": "stdout",
          "text": [
            "root\n",
            " |-- sepal_lenght: string (nullable = true)\n",
            " |-- sepal_width: string (nullable = true)\n",
            " |-- petel_lenght: string (nullable = true)\n",
            " |-- petel_width: string (nullable = true)\n",
            " |-- class: string (nullable = true)\n",
            "\n"
          ]
        }
      ]
    },
    {
      "cell_type": "code",
      "metadata": {
        "colab": {
          "base_uri": "https://localhost:8080/"
        },
        "id": "SmkEul9YY8pw",
        "outputId": "72c21eb9-71e6-4db9-b4df-2907ebdba60d"
      },
      "source": [
        "data1.groupBy('class').sum('petel_lenght').show()"
      ],
      "execution_count": null,
      "outputs": [
        {
          "output_type": "stream",
          "name": "stdout",
          "text": [
            "+---------------+------------------+\n",
            "|          class| sum(petel_lenght)|\n",
            "+---------------+------------------+\n",
            "| Iris-virginica| 277.5999994277954|\n",
            "|    Iris-setosa| 52.19999980926514|\n",
            "|Iris-versicolor|212.99999904632568|\n",
            "|           null| 4.600000023841858|\n",
            "+---------------+------------------+\n",
            "\n"
          ]
        }
      ]
    },
    {
      "cell_type": "code",
      "metadata": {
        "colab": {
          "base_uri": "https://localhost:8080/"
        },
        "id": "cAut3z2xfFM_",
        "outputId": "75aa553b-10ae-4dde-ae32-67c2cc06d5dc"
      },
      "source": [
        "data1.groupby('class').avg('petel_lenght').show()"
      ],
      "execution_count": null,
      "outputs": [
        {
          "output_type": "stream",
          "name": "stdout",
          "text": [
            "+---------------+------------------+\n",
            "|          class| avg(petel_lenght)|\n",
            "+---------------+------------------+\n",
            "| Iris-virginica| 5.551999988555909|\n",
            "|    Iris-setosa|1.4499999947018094|\n",
            "|Iris-versicolor| 4.259999980926514|\n",
            "|           null|1.5333333412806194|\n",
            "+---------------+------------------+\n",
            "\n"
          ]
        }
      ]
    },
    {
      "cell_type": "code",
      "metadata": {
        "colab": {
          "base_uri": "https://localhost:8080/"
        },
        "id": "KAfe3WquZLMU",
        "outputId": "0da4d418-88dd-40b9-a5d2-939f92dbf7dd"
      },
      "source": [
        "data1.show()"
      ],
      "execution_count": null,
      "outputs": [
        {
          "output_type": "stream",
          "name": "stdout",
          "text": [
            "+------------+-----------+------------+-----------+-----------+\n",
            "|sepal_lenght|sepal_width|petel_lenght|petel_width|      class|\n",
            "+------------+-----------+------------+-----------+-----------+\n",
            "|        null|        3.5|         1.4|        0.2|Iris-setosa|\n",
            "|        null|       null|         1.4|        0.2|Iris-setosa|\n",
            "|        null|       null|        null|        0.2|Iris-setosa|\n",
            "|        null|       null|        null|       null|Iris-setosa|\n",
            "|        null|       null|        null|       null|       null|\n",
            "|        null|        3.9|         1.7|        0.4|       null|\n",
            "|         4.6|       null|         1.4|       null|Iris-setosa|\n",
            "|        null|        3.4|        null|        0.2|Iris-setosa|\n",
            "|         4.4|       null|         1.4|       null|       null|\n",
            "|        null|       null|         1.5|       null|Iris-setosa|\n",
            "|         5.4|       null|         1.5|       null|       null|\n",
            "|        null|       null|        null|        0.2|Iris-setosa|\n",
            "|         4.8|       null|        null|        0.1|Iris-setosa|\n",
            "|        null|       null|        null|        0.1|       null|\n",
            "|         5.8|        4.0|         1.2|        0.2|Iris-setosa|\n",
            "|        null|       null|        null|       null|Iris-setosa|\n",
            "|         5.4|        3.9|         1.3|        0.4|Iris-setosa|\n",
            "|         5.1|        3.5|         1.4|        0.3|Iris-setosa|\n",
            "|         5.7|        3.8|         1.7|        0.3|Iris-setosa|\n",
            "|         5.1|        3.8|         1.5|        0.3|Iris-setosa|\n",
            "+------------+-----------+------------+-----------+-----------+\n",
            "only showing top 20 rows\n",
            "\n"
          ]
        }
      ]
    },
    {
      "cell_type": "code",
      "metadata": {
        "colab": {
          "base_uri": "https://localhost:8080/"
        },
        "id": "ddTkl0iGZ0C3",
        "outputId": "8cb0e606-3be9-49e6-bd81-1dba3ea878a5"
      },
      "source": [
        "data1.select('petel_width').show()"
      ],
      "execution_count": null,
      "outputs": [
        {
          "output_type": "stream",
          "name": "stdout",
          "text": [
            "+-----------+\n",
            "|petel_width|\n",
            "+-----------+\n",
            "|        0.2|\n",
            "|        0.2|\n",
            "|        0.2|\n",
            "|       null|\n",
            "|       null|\n",
            "|        0.4|\n",
            "|       null|\n",
            "|        0.2|\n",
            "|       null|\n",
            "|       null|\n",
            "|       null|\n",
            "|        0.2|\n",
            "|        0.1|\n",
            "|        0.1|\n",
            "|        0.2|\n",
            "|       null|\n",
            "|        0.4|\n",
            "|        0.3|\n",
            "|        0.3|\n",
            "|        0.3|\n",
            "+-----------+\n",
            "only showing top 20 rows\n",
            "\n"
          ]
        }
      ]
    },
    {
      "cell_type": "code",
      "metadata": {
        "colab": {
          "base_uri": "https://localhost:8080/"
        },
        "id": "6tG7TOksbwHp",
        "outputId": "3c8f4c05-783f-425e-bf10-ba1e06f65a79"
      },
      "source": [
        "data1.groupby('petel_lenght').sum().show()"
      ],
      "execution_count": null,
      "outputs": [
        {
          "output_type": "stream",
          "name": "stdout",
          "text": [
            "+------------+------------------+------------------+\n",
            "|petel_lenght| sum(petel_lenght)|  sum(petel_width)|\n",
            "+------------+------------------+------------------+\n",
            "|         6.9| 6.900000095367432| 2.299999952316284|\n",
            "|         5.0|              20.0| 7.100000023841858|\n",
            "|         5.5|              16.5| 5.699999809265137|\n",
            "|         5.7| 17.09999942779541|6.8999998569488525|\n",
            "|         3.8| 3.799999952316284| 1.100000023841858|\n",
            "|         4.6|13.799999713897705| 4.199999928474426|\n",
            "|         4.2|16.799999237060547| 5.299999952316284|\n",
            "|         5.3|10.600000381469727| 4.199999928474426|\n",
            "|         5.4|10.800000190734863|4.3999998569488525|\n",
            "|         6.3| 6.300000190734863|1.7999999523162842|\n",
            "|        null|              null|1.2000000178813934|\n",
            "|         5.2|10.399999618530273| 4.299999952316284|\n",
            "|         3.6|3.5999999046325684|1.2999999523162842|\n",
            "|         3.0|               3.0| 1.100000023841858|\n",
            "|         5.1| 40.79999923706055|15.399999976158142|\n",
            "|         6.1|18.299999713897705| 6.699999928474426|\n",
            "|         1.5|              16.5| 2.000000037252903|\n",
            "|         3.3| 6.599999904632568|               2.0|\n",
            "|         6.7|13.399999618530273| 4.200000047683716|\n",
            "|         4.4|17.600000381469727| 5.299999952316284|\n",
            "+------------+------------------+------------------+\n",
            "only showing top 20 rows\n",
            "\n"
          ]
        }
      ]
    },
    {
      "cell_type": "code",
      "metadata": {
        "colab": {
          "base_uri": "https://localhost:8080/"
        },
        "id": "ztxhwEvXf9r0",
        "outputId": "f798e795-a017-4394-cb36-e4cabd884d5c"
      },
      "source": [
        "data1.groupby('petel_lenght').count().show()"
      ],
      "execution_count": null,
      "outputs": [
        {
          "output_type": "stream",
          "name": "stdout",
          "text": [
            "+------------+-----+\n",
            "|petel_lenght|count|\n",
            "+------------+-----+\n",
            "|         6.9|    1|\n",
            "|         5.0|    4|\n",
            "|         5.5|    3|\n",
            "|         5.7|    3|\n",
            "|         3.8|    1|\n",
            "|         4.6|    3|\n",
            "|         4.2|    4|\n",
            "|         5.3|    2|\n",
            "|         5.4|    2|\n",
            "|         6.3|    1|\n",
            "|        null|   11|\n",
            "|         5.2|    2|\n",
            "|         3.6|    1|\n",
            "|         3.0|    1|\n",
            "|         5.1|    8|\n",
            "|         6.1|    3|\n",
            "|         1.5|   11|\n",
            "|         3.3|    2|\n",
            "|         6.7|    2|\n",
            "|         4.4|    4|\n",
            "+------------+-----+\n",
            "only showing top 20 rows\n",
            "\n"
          ]
        }
      ]
    },
    {
      "cell_type": "code",
      "metadata": {
        "colab": {
          "base_uri": "https://localhost:8080/"
        },
        "id": "0pADbcFVgCmV",
        "outputId": "3d898218-6695-4484-d3e9-be921bb14874"
      },
      "source": [
        "data1.groupby('petel_lenght').min().show()"
      ],
      "execution_count": null,
      "outputs": [
        {
          "output_type": "stream",
          "name": "stdout",
          "text": [
            "+------------+-----------------+----------------+\n",
            "|petel_lenght|min(petel_lenght)|min(petel_width)|\n",
            "+------------+-----------------+----------------+\n",
            "|         6.9|              6.9|             2.3|\n",
            "|         5.0|              5.0|             1.5|\n",
            "|         5.5|              5.5|             1.8|\n",
            "|         5.7|              5.7|             2.1|\n",
            "|         3.8|              3.8|             1.1|\n",
            "|         4.6|              4.6|             1.3|\n",
            "|         4.2|              4.2|             1.2|\n",
            "|         5.3|              5.3|             1.9|\n",
            "|         5.4|              5.4|             2.1|\n",
            "|         6.3|              6.3|             1.8|\n",
            "|        null|             null|             0.1|\n",
            "|         5.2|              5.2|             2.0|\n",
            "|         3.6|              3.6|             1.3|\n",
            "|         3.0|              3.0|             1.1|\n",
            "|         5.1|              5.1|             1.5|\n",
            "|         6.1|              6.1|             1.9|\n",
            "|         1.5|              1.5|             0.1|\n",
            "|         3.3|              3.3|             1.0|\n",
            "|         6.7|              6.7|             2.0|\n",
            "|         4.4|              4.4|             1.2|\n",
            "+------------+-----------------+----------------+\n",
            "only showing top 20 rows\n",
            "\n"
          ]
        }
      ]
    },
    {
      "cell_type": "code",
      "metadata": {
        "colab": {
          "base_uri": "https://localhost:8080/"
        },
        "id": "WfpJ9ltNgNOR",
        "outputId": "4e0efeb2-b878-4063-8ccd-826ffe0e7ed2"
      },
      "source": [
        "data1.groupby('petel_lenght').max().show()"
      ],
      "execution_count": null,
      "outputs": [
        {
          "output_type": "stream",
          "name": "stdout",
          "text": [
            "+------------+-----------------+----------------+\n",
            "|petel_lenght|max(petel_lenght)|max(petel_width)|\n",
            "+------------+-----------------+----------------+\n",
            "|         6.9|              6.9|             2.3|\n",
            "|         5.0|              5.0|             2.0|\n",
            "|         5.5|              5.5|             2.1|\n",
            "|         5.7|              5.7|             2.5|\n",
            "|         3.8|              3.8|             1.1|\n",
            "|         4.6|              4.6|             1.5|\n",
            "|         4.2|              4.2|             1.5|\n",
            "|         5.3|              5.3|             2.3|\n",
            "|         5.4|              5.4|             2.3|\n",
            "|         6.3|              6.3|             1.8|\n",
            "|        null|             null|             0.2|\n",
            "|         5.2|              5.2|             2.3|\n",
            "|         3.6|              3.6|             1.3|\n",
            "|         3.0|              3.0|             1.1|\n",
            "|         5.1|              5.1|             2.4|\n",
            "|         6.1|              6.1|             2.5|\n",
            "|         1.5|              1.5|             0.4|\n",
            "|         3.3|              3.3|             1.0|\n",
            "|         6.7|              6.7|             2.2|\n",
            "|         4.4|              4.4|             1.4|\n",
            "+------------+-----------------+----------------+\n",
            "only showing top 20 rows\n",
            "\n"
          ]
        }
      ]
    },
    {
      "cell_type": "code",
      "metadata": {
        "id": "Db3Oifrzp_an"
      },
      "source": [
        "d = data1.na.fill('4.7',['sepal_lenght', 'sepal_width', 'petel_lenght', 'petel_width']).na.fill('iris-setosa',['class'])"
      ],
      "execution_count": null,
      "outputs": []
    },
    {
      "cell_type": "code",
      "metadata": {
        "colab": {
          "base_uri": "https://localhost:8080/"
        },
        "id": "dwQkTUFhqICl",
        "outputId": "90dc32ca-ac1c-464d-d382-8d7cafb4de23"
      },
      "source": [
        "d.show()"
      ],
      "execution_count": null,
      "outputs": [
        {
          "output_type": "stream",
          "name": "stdout",
          "text": [
            "+------------+-----------+------------+-----------+-----------+\n",
            "|sepal_lenght|sepal_width|petel_lenght|petel_width|      class|\n",
            "+------------+-----------+------------+-----------+-----------+\n",
            "|         4.7|        3.5|         1.4|        0.2|Iris-setosa|\n",
            "|         4.7|        4.7|         1.4|        0.2|Iris-setosa|\n",
            "|         4.7|        4.7|         4.7|        0.2|Iris-setosa|\n",
            "|         4.7|        4.7|         4.7|        4.7|Iris-setosa|\n",
            "|         4.7|        4.7|         4.7|        4.7|iris-setosa|\n",
            "|         4.7|        3.9|         1.7|        0.4|iris-setosa|\n",
            "|         4.6|        4.7|         1.4|        4.7|Iris-setosa|\n",
            "|         4.7|        3.4|         4.7|        0.2|Iris-setosa|\n",
            "|         4.4|        4.7|         1.4|        4.7|iris-setosa|\n",
            "|         4.7|        4.7|         1.5|        4.7|Iris-setosa|\n",
            "|         5.4|        4.7|         1.5|        4.7|iris-setosa|\n",
            "|         4.7|        4.7|         4.7|        0.2|Iris-setosa|\n",
            "|         4.8|        4.7|         4.7|        0.1|Iris-setosa|\n",
            "|         4.7|        4.7|         4.7|        0.1|iris-setosa|\n",
            "|         5.8|        4.0|         1.2|        0.2|Iris-setosa|\n",
            "|         4.7|        4.7|         4.7|        4.7|Iris-setosa|\n",
            "|         5.4|        3.9|         1.3|        0.4|Iris-setosa|\n",
            "|         5.1|        3.5|         1.4|        0.3|Iris-setosa|\n",
            "|         5.7|        3.8|         1.7|        0.3|Iris-setosa|\n",
            "|         5.1|        3.8|         1.5|        0.3|Iris-setosa|\n",
            "+------------+-----------+------------+-----------+-----------+\n",
            "only showing top 20 rows\n",
            "\n"
          ]
        }
      ]
    },
    {
      "cell_type": "code",
      "metadata": {
        "id": "m-KwMlH-risC"
      },
      "source": [
        ""
      ],
      "execution_count": null,
      "outputs": []
    },
    {
      "cell_type": "code",
      "metadata": {
        "id": "eXIr9lPAr2oe"
      },
      "source": [
        "from pyspark.ml.feature import Imputer"
      ],
      "execution_count": null,
      "outputs": []
    },
    {
      "cell_type": "code",
      "metadata": {
        "id": "LbAsOlj1r2sV"
      },
      "source": [
        "obj_imputer = Imputer(\n",
        "    inputCols = ['sepal_lenght', 'sepal_width', 'petel_lenght', 'petel_width'],\n",
        "    outputCols = ['{}._imputed'.format(b) for b in ['sepal_lenght', 'sepal_width', 'petel_lenght', 'petel_width']]\n",
        ").setStrategy('mean')"
      ],
      "execution_count": null,
      "outputs": []
    },
    {
      "cell_type": "code",
      "metadata": {
        "colab": {
          "base_uri": "https://localhost:8080/"
        },
        "id": "pddpZwXOy9sc",
        "outputId": "ec20f3f2-8396-4b4b-fb70-2e3eb43ad519"
      },
      "source": [
        "obj_imputer.fit(data1).transform(data1).show()"
      ],
      "execution_count": null,
      "outputs": [
        {
          "output_type": "stream",
          "name": "stdout",
          "text": [
            "+------------+-----------+------------+-----------+-----------+---------------------+--------------------+---------------------+--------------------+\n",
            "|sepal_lenght|sepal_width|petel_lenght|petel_width|      class|sepal_lenght._imputed|sepal_width._imputed|petel_lenght._imputed|petel_width._imputed|\n",
            "+------------+-----------+------------+-----------+-----------+---------------------+--------------------+---------------------+--------------------+\n",
            "|        null|        3.5|         1.4|        0.2|Iris-setosa|             5.929197|                 3.5|                  1.4|                 0.2|\n",
            "|        null|       null|         1.4|        0.2|Iris-setosa|             5.929197|           3.0274074|                  1.4|                 0.2|\n",
            "|        null|       null|        null|        0.2|Iris-setosa|             5.929197|           3.0274074|            3.9381294|                 0.2|\n",
            "|        null|       null|        null|       null|Iris-setosa|             5.929197|           3.0274074|            3.9381294|           1.2535211|\n",
            "|        null|       null|        null|       null|       null|             5.929197|           3.0274074|            3.9381294|           1.2535211|\n",
            "|        null|        3.9|         1.7|        0.4|       null|             5.929197|                 3.9|                  1.7|                 0.4|\n",
            "|         4.6|       null|         1.4|       null|Iris-setosa|                  4.6|           3.0274074|                  1.4|           1.2535211|\n",
            "|        null|        3.4|        null|        0.2|Iris-setosa|             5.929197|                 3.4|            3.9381294|                 0.2|\n",
            "|         4.4|       null|         1.4|       null|       null|                  4.4|           3.0274074|                  1.4|           1.2535211|\n",
            "|        null|       null|         1.5|       null|Iris-setosa|             5.929197|           3.0274074|                  1.5|           1.2535211|\n",
            "|         5.4|       null|         1.5|       null|       null|                  5.4|           3.0274074|                  1.5|           1.2535211|\n",
            "|        null|       null|        null|        0.2|Iris-setosa|             5.929197|           3.0274074|            3.9381294|                 0.2|\n",
            "|         4.8|       null|        null|        0.1|Iris-setosa|                  4.8|           3.0274074|            3.9381294|                 0.1|\n",
            "|        null|       null|        null|        0.1|       null|             5.929197|           3.0274074|            3.9381294|                 0.1|\n",
            "|         5.8|        4.0|         1.2|        0.2|Iris-setosa|                  5.8|                 4.0|                  1.2|                 0.2|\n",
            "|        null|       null|        null|       null|Iris-setosa|             5.929197|           3.0274074|            3.9381294|           1.2535211|\n",
            "|         5.4|        3.9|         1.3|        0.4|Iris-setosa|                  5.4|                 3.9|                  1.3|                 0.4|\n",
            "|         5.1|        3.5|         1.4|        0.3|Iris-setosa|                  5.1|                 3.5|                  1.4|                 0.3|\n",
            "|         5.7|        3.8|         1.7|        0.3|Iris-setosa|                  5.7|                 3.8|                  1.7|                 0.3|\n",
            "|         5.1|        3.8|         1.5|        0.3|Iris-setosa|                  5.1|                 3.8|                  1.5|                 0.3|\n",
            "+------------+-----------+------------+-----------+-----------+---------------------+--------------------+---------------------+--------------------+\n",
            "only showing top 20 rows\n",
            "\n"
          ]
        }
      ]
    },
    {
      "cell_type": "code",
      "metadata": {
        "id": "GdfcfOsHz1r5"
      },
      "source": [
        "# type casting  to float\n",
        "# 'sepal_lenght', 'sepal_width', 'petel_lenght', 'petel_width'\n",
        "data1 = data1.withColumn('sepal_lenght', data1['sepal_lenght'].cast('float'))\\\n",
        ".withColumn('sepal_width',data1['sepal_width'].cast('float'))\\\n",
        ".withColumn('petel_lenght',data1['petel_lenght'].cast('float'))\\\n",
        ".withColumn('petel_width',data1['petel_width'].cast('float'))"
      ],
      "execution_count": null,
      "outputs": []
    },
    {
      "cell_type": "code",
      "metadata": {
        "colab": {
          "base_uri": "https://localhost:8080/"
        },
        "id": "bT-xgOM31rNU",
        "outputId": "685922e4-308b-4027-8fcf-da4d3a7ed0bc"
      },
      "source": [
        "obj_imputer.fit(data1).transform(data1).show()"
      ],
      "execution_count": null,
      "outputs": [
        {
          "output_type": "stream",
          "name": "stdout",
          "text": [
            "+------------+-----------+------------+-----------+-----------+---------------------+--------------------+---------------------+--------------------+\n",
            "|sepal_lenght|sepal_width|petel_lenght|petel_width|      class|sepal_lenght._imputed|sepal_width._imputed|petel_lenght._imputed|petel_width._imputed|\n",
            "+------------+-----------+------------+-----------+-----------+---------------------+--------------------+---------------------+--------------------+\n",
            "|        null|        3.5|         1.4|        0.2|Iris-setosa|             5.929197|                 3.5|                  1.4|                 0.2|\n",
            "|        null|       null|         1.4|        0.2|Iris-setosa|             5.929197|           3.0274074|                  1.4|                 0.2|\n",
            "|        null|       null|        null|        0.2|Iris-setosa|             5.929197|           3.0274074|            3.9381294|                 0.2|\n",
            "|        null|       null|        null|       null|Iris-setosa|             5.929197|           3.0274074|            3.9381294|           1.2535211|\n",
            "|        null|       null|        null|       null|       null|             5.929197|           3.0274074|            3.9381294|           1.2535211|\n",
            "|        null|        3.9|         1.7|        0.4|       null|             5.929197|                 3.9|                  1.7|                 0.4|\n",
            "|         4.6|       null|         1.4|       null|Iris-setosa|                  4.6|           3.0274074|                  1.4|           1.2535211|\n",
            "|        null|        3.4|        null|        0.2|Iris-setosa|             5.929197|                 3.4|            3.9381294|                 0.2|\n",
            "|         4.4|       null|         1.4|       null|       null|                  4.4|           3.0274074|                  1.4|           1.2535211|\n",
            "|        null|       null|         1.5|       null|Iris-setosa|             5.929197|           3.0274074|                  1.5|           1.2535211|\n",
            "|         5.4|       null|         1.5|       null|       null|                  5.4|           3.0274074|                  1.5|           1.2535211|\n",
            "|        null|       null|        null|        0.2|Iris-setosa|             5.929197|           3.0274074|            3.9381294|                 0.2|\n",
            "|         4.8|       null|        null|        0.1|Iris-setosa|                  4.8|           3.0274074|            3.9381294|                 0.1|\n",
            "|        null|       null|        null|        0.1|       null|             5.929197|           3.0274074|            3.9381294|                 0.1|\n",
            "|         5.8|        4.0|         1.2|        0.2|Iris-setosa|                  5.8|                 4.0|                  1.2|                 0.2|\n",
            "|        null|       null|        null|       null|Iris-setosa|             5.929197|           3.0274074|            3.9381294|           1.2535211|\n",
            "|         5.4|        3.9|         1.3|        0.4|Iris-setosa|                  5.4|                 3.9|                  1.3|                 0.4|\n",
            "|         5.1|        3.5|         1.4|        0.3|Iris-setosa|                  5.1|                 3.5|                  1.4|                 0.3|\n",
            "|         5.7|        3.8|         1.7|        0.3|Iris-setosa|                  5.7|                 3.8|                  1.7|                 0.3|\n",
            "|         5.1|        3.8|         1.5|        0.3|Iris-setosa|                  5.1|                 3.8|                  1.5|                 0.3|\n",
            "+------------+-----------+------------+-----------+-----------+---------------------+--------------------+---------------------+--------------------+\n",
            "only showing top 20 rows\n",
            "\n"
          ]
        }
      ]
    },
    {
      "cell_type": "code",
      "metadata": {
        "colab": {
          "base_uri": "https://localhost:8080/"
        },
        "id": "G0LdXy9V18bx",
        "outputId": "853f1201-2f31-4d59-d288-0397ae8c0ba4"
      },
      "source": [
        "data1.printSchema()"
      ],
      "execution_count": null,
      "outputs": [
        {
          "output_type": "stream",
          "name": "stdout",
          "text": [
            "root\n",
            " |-- sepal_lenght: float (nullable = true)\n",
            " |-- sepal_width: float (nullable = true)\n",
            " |-- petel_lenght: float (nullable = true)\n",
            " |-- petel_width: float (nullable = true)\n",
            " |-- class: string (nullable = true)\n",
            "\n"
          ]
        }
      ]
    },
    {
      "cell_type": "code",
      "metadata": {
        "colab": {
          "base_uri": "https://localhost:8080/"
        },
        "id": "T7GHr7Sy2SGL",
        "outputId": "436d959b-d6e4-4279-a1b8-dd889316e234"
      },
      "source": [
        "type(data1)"
      ],
      "execution_count": null,
      "outputs": [
        {
          "output_type": "execute_result",
          "data": {
            "text/plain": [
              "pyspark.sql.dataframe.DataFrame"
            ]
          },
          "metadata": {},
          "execution_count": 356
        }
      ]
    },
    {
      "cell_type": "code",
      "metadata": {
        "id": "r2Nh-jro6xMt"
      },
      "source": [
        ""
      ],
      "execution_count": null,
      "outputs": []
    }
  ]
}