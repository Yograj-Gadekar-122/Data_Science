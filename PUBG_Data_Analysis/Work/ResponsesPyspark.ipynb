{
  "nbformat": 4,
  "nbformat_minor": 0,
  "metadata": {
    "colab": {
      "name": "ResponsesPyspark.ipynb",
      "provenance": []
    },
    "kernelspec": {
      "name": "python3",
      "display_name": "Python 3"
    },
    "language_info": {
      "name": "python"
    }
  },
  "cells": [
    {
      "cell_type": "code",
      "execution_count": 14,
      "metadata": {
        "id": "Xbp94M-mV505"
      },
      "outputs": [],
      "source": [
        ""
      ]
    },
    {
      "cell_type": "code",
      "source": [
        "!pip install pyspark"
      ],
      "metadata": {
        "colab": {
          "base_uri": "https://localhost:8080/"
        },
        "id": "2lyngqWMWWVh",
        "outputId": "feaed272-29b8-4210-82c7-f1b890e6beff"
      },
      "execution_count": 2,
      "outputs": [
        {
          "output_type": "stream",
          "name": "stdout",
          "text": [
            "Collecting pyspark\n",
            "  Downloading pyspark-3.2.0.tar.gz (281.3 MB)\n",
            "\u001b[K     |████████████████████████████████| 281.3 MB 32 kB/s \n",
            "\u001b[?25hCollecting py4j==0.10.9.2\n",
            "  Downloading py4j-0.10.9.2-py2.py3-none-any.whl (198 kB)\n",
            "\u001b[K     |████████████████████████████████| 198 kB 44.9 MB/s \n",
            "\u001b[?25hBuilding wheels for collected packages: pyspark\n",
            "  Building wheel for pyspark (setup.py) ... \u001b[?25l\u001b[?25hdone\n",
            "  Created wheel for pyspark: filename=pyspark-3.2.0-py2.py3-none-any.whl size=281805912 sha256=ea383861b9b1e281c2a167d4356dcf038f8a9364e70a5ec3fb5d7416e53bebf8\n",
            "  Stored in directory: /root/.cache/pip/wheels/0b/de/d2/9be5d59d7331c6c2a7c1b6d1a4f463ce107332b1ecd4e80718\n",
            "Successfully built pyspark\n",
            "Installing collected packages: py4j, pyspark\n",
            "Successfully installed py4j-0.10.9.2 pyspark-3.2.0\n"
          ]
        }
      ]
    },
    {
      "cell_type": "code",
      "source": [
        "from pyspark.sql import SparkSession"
      ],
      "metadata": {
        "id": "RCTmeDgJWnYQ"
      },
      "execution_count": 16,
      "outputs": []
    },
    {
      "cell_type": "code",
      "source": [
        "ss = SparkSession.builder.appName('dataframeapp').getOrCreate()"
      ],
      "metadata": {
        "id": "SfZ_7hEeWs-o"
      },
      "execution_count": 15,
      "outputs": []
    },
    {
      "cell_type": "code",
      "source": [
        "responses=ss.read.option('header','true').csv('/content/Responses_pyspak')"
      ],
      "metadata": {
        "id": "9HK0FVRs5zYP"
      },
      "execution_count": 20,
      "outputs": []
    },
    {
      "cell_type": "code",
      "source": [
        "responses.show()"
      ],
      "metadata": {
        "colab": {
          "base_uri": "https://localhost:8080/"
        },
        "id": "V7q65sAgW1PL",
        "outputId": "ac5974af-3d46-44dd-941d-2de5439ce051"
      },
      "execution_count": 21,
      "outputs": [
        {
          "output_type": "stream",
          "name": "stdout",
          "text": [
            "+---+------+---------------------+----------------------------------------+-------------------------------+-----------------------------+---------------------------------+--------------------------------+--------------------------------+----------------------------------------+----------------------------------+-----------------------------------------------------------+\n",
            "|Age|Gender|Do you play PUBG game|How long have you been playing this game|How often do you play this Game|How much time you spent daily|How affect this game on students6|Positive effects of playing PUBG|Negative effects of playing PUBG|What are reasons that you dont play PUBG|How affect this game on students10|According to you are there positive effects of playing PUBG|\n",
            "+---+------+---------------------+----------------------------------------+-------------------------------+-----------------------------+---------------------------------+--------------------------------+--------------------------------+----------------------------------------+----------------------------------+-----------------------------------------------------------+\n",
            "| 21|Female|                  Yes|                        Less than 1 year|              Several in a week|                  Upto 1 hour|                         Positive|            Leadership Qualities|            Affects mental he...|                                    null|                              null|                                                       null|\n",
            "| 24|  Male|                  Yes|                        Less than 1 year|               Several in a day|                  Upto 1 hour|                         Negative|            Alertness, Co-ord...|            Addiction, Anti-s...|                                    null|                              null|                                                       null|\n",
            "| 22|  Male|                  Yes|                             1 - 2 years|              Several in a week|                  1 - 2 hours|                         Negative|                       Alertness|            Violent tendency,...|                                    null|                              null|                                                       null|\n",
            "| 23|  Male|                  Yes|                             1 - 2 years|              Several in a week|                  1 - 2 hours|                         Positive|            Alertness, Co-ord...|                       Addiction|                                    null|                              null|                                                       null|\n",
            "| 21|Female|                  Yes|                        Less than 1 year|               Several in a day|          Less than 30 minute|                         Negative|                       Alertness|            Violent tendency,...|                                    null|                              null|                                                       null|\n",
            "| 24|  Male|                  Yes|                        Less than 1 year|              Several in a week|          Less than 30 minute|                         Positive|            Alertness, Co-ord...|            Addiction, Distur...|                                    null|                              null|                                                       null|\n",
            "| 22|  Male|                  Yes|                       More than 2 years|             Several in a month|          Less than 30 minute|                         Negative|            Alertness, Co-ord...|            Violent tendency,...|                                    null|                              null|                                                       null|\n",
            "| 22|Female|                  Yes|                        Less than 1 year|             Several in a month|          Less than 30 minute|                         Negative|                       Alertness|            Addiction, Affect...|                                    null|                              null|                                                       null|\n",
            "| 24|  Male|                  Yes|                        Less than 1 year|              Several in a week|                  Upto 1 hour|                         Negative|                   Concentration|            Poor physical hea...|                                    null|                              null|                                                       null|\n",
            "| 26|  Male|                  Yes|                        Less than 1 year|               Several in a day|                  Upto 1 hour|                         Negative|            Alertness, Co-ord...|            Violent tendency,...|                                    null|                              null|                                                       null|\n",
            "| 18|Female|                  Yes|                        Less than 1 year|               Several in a day|            More than 2 hours|                         Negative|            Alertness, Leader...|            Addiction, Poor p...|                                    null|                              null|                                                       null|\n",
            "| 18|  Male|                  Yes|                             1 - 2 years|              Several in a week|                  Upto 1 hour|                         Positive|            Co-ordination, Co...|            Addiction, Anti-s...|                                    null|                              null|                                                       null|\n",
            "| 20|Female|                  Yes|                       More than 2 years|               Several in a day|                  Upto 1 hour|                         Positive|            Cognition, Leader...|            Addiction, Affect...|                                    null|                              null|                                                       null|\n",
            "| 19|  Male|                  Yes|                        Less than 1 year|              Several in a week|                  Upto 1 hour|                         Positive|            Cognition, Leader...|            Addiction, Distur...|                                    null|                              null|                                                       null|\n",
            "| 21|  Male|                  Yes|                       More than 2 years|              Several in a week|                  1 - 2 hours|                         Positive|            Co-ordination, Co...|            Addiction, Anti-s...|                                    null|                              null|                                                       null|\n",
            "| 22|  Male|                  Yes|                             1 - 2 years|              Several in a week|          Less than 30 minute|                         Positive|            Alertness, Leader...|            Violent tendency,...|                                    null|                              null|                                                       null|\n",
            "| 23|  Male|                  Yes|                       More than 2 years|              Several in a week|                  1 - 2 hours|                         Positive|            Alertness, Co-ord...|            Violent tendency,...|                                    null|                              null|                                                       null|\n",
            "| 25|  Male|                  Yes|                             1 - 2 years|               Several in a day|          Less than 30 minute|                         Negative|            Co-ordination, Co...|            Addiction, Anti-s...|                                    null|                              null|                                                       null|\n",
            "| 23|Female|                  Yes|                             1 - 2 years|              Several in a week|                  1 - 2 hours|                         Positive|            Alertness, Co-ord...|            Addiction, Poor p...|                                    null|                              null|                                                       null|\n",
            "| 25|  Male|                  Yes|                       More than 2 years|             Several in a month|                  Upto 1 hour|                         Positive|            Alertness, Cognit...|            Violent tendency,...|                                    null|                              null|                                                       null|\n",
            "+---+------+---------------------+----------------------------------------+-------------------------------+-----------------------------+---------------------------------+--------------------------------+--------------------------------+----------------------------------------+----------------------------------+-----------------------------------------------------------+\n",
            "only showing top 20 rows\n",
            "\n"
          ]
        }
      ]
    },
    {
      "cell_type": "code",
      "source": [
        "responses.columns"
      ],
      "metadata": {
        "colab": {
          "base_uri": "https://localhost:8080/"
        },
        "id": "EFEnLcamW6Gf",
        "outputId": "8a06562d-5d65-4a28-8836-cf4ef8151df7"
      },
      "execution_count": 22,
      "outputs": [
        {
          "output_type": "execute_result",
          "data": {
            "text/plain": [
              "['Age',\n",
              " 'Gender',\n",
              " 'Do you play PUBG game',\n",
              " 'How long have you been playing this game',\n",
              " 'How often do you play this Game',\n",
              " 'How much time you spent daily',\n",
              " 'How affect this game on students6',\n",
              " 'Positive effects of playing PUBG',\n",
              " 'Negative effects of playing PUBG',\n",
              " 'What are reasons that you dont play PUBG',\n",
              " 'How affect this game on students10',\n",
              " 'According to you are there positive effects of playing PUBG']"
            ]
          },
          "metadata": {},
          "execution_count": 22
        }
      ]
    },
    {
      "cell_type": "code",
      "source": [
        "type(responses)"
      ],
      "metadata": {
        "colab": {
          "base_uri": "https://localhost:8080/"
        },
        "id": "iuUM0cwX599u",
        "outputId": "283db7a1-c150-4a4b-fb8c-d65ce6548b23"
      },
      "execution_count": 23,
      "outputs": [
        {
          "output_type": "execute_result",
          "data": {
            "text/plain": [
              "pyspark.sql.dataframe.DataFrame"
            ]
          },
          "metadata": {},
          "execution_count": 23
        }
      ]
    },
    {
      "cell_type": "code",
      "source": [
        "responses.groupby('Do you play PUBG game').count().show()"
      ],
      "metadata": {
        "colab": {
          "base_uri": "https://localhost:8080/"
        },
        "id": "z_6--Mmd6wt9",
        "outputId": "415fbf82-ab95-4e54-fa99-824216643d0b"
      },
      "execution_count": 34,
      "outputs": [
        {
          "output_type": "stream",
          "name": "stdout",
          "text": [
            "+---------------------+-----+\n",
            "|Do you play PUBG game|count|\n",
            "+---------------------+-----+\n",
            "|                   No|   30|\n",
            "|                  Yes|   23|\n",
            "+---------------------+-----+\n",
            "\n"
          ]
        }
      ]
    },
    {
      "cell_type": "code",
      "source": [
        "responses.groupby('age').count().show()"
      ],
      "metadata": {
        "colab": {
          "base_uri": "https://localhost:8080/"
        },
        "id": "ehionFC57qYt",
        "outputId": "6022d857-f787-4297-97e4-373612400967"
      },
      "execution_count": 35,
      "outputs": [
        {
          "output_type": "stream",
          "name": "stdout",
          "text": [
            "+---+-----+\n",
            "|age|count|\n",
            "+---+-----+\n",
            "| 22|   10|\n",
            "| 18|    3|\n",
            "| 27|    3|\n",
            "| 26|    2|\n",
            "| 19|    4|\n",
            "| 23|   14|\n",
            "| 25|    3|\n",
            "| 24|    7|\n",
            "| 20|    2|\n",
            "| 21|    5|\n",
            "+---+-----+\n",
            "\n"
          ]
        }
      ]
    },
    {
      "cell_type": "code",
      "source": [
        "responses.groupby('Gender').count().show()"
      ],
      "metadata": {
        "colab": {
          "base_uri": "https://localhost:8080/"
        },
        "id": "Z6oRR9Lh8zqF",
        "outputId": "38e45f18-3e46-4f5b-adf4-caa2f86937a6"
      },
      "execution_count": 36,
      "outputs": [
        {
          "output_type": "stream",
          "name": "stdout",
          "text": [
            "+------+-----+\n",
            "|Gender|count|\n",
            "+------+-----+\n",
            "|Female|   23|\n",
            "|  Male|   30|\n",
            "+------+-----+\n",
            "\n"
          ]
        }
      ]
    },
    {
      "cell_type": "code",
      "source": [
        ""
      ],
      "metadata": {
        "id": "P6OM5Oge9jCs"
      },
      "execution_count": null,
      "outputs": []
    }
  ]
}